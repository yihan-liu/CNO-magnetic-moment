{
 "cells": [
  {
   "cell_type": "code",
   "execution_count": 17,
   "metadata": {},
   "outputs": [],
   "source": [
    "import torch\n",
    "from torch import nn\n",
    "import torch.nn.functional as F\n",
    "from torch_geometric.data import Data, InMemoryDataset\n",
    "from torch_geometric.loader import DataLoader\n",
    "from torch_geometric.nn import GCNConv\n",
    "import pandas as pd\n",
    "import numpy as np\n",
    "\n",
    "from utils import atom_type_to_onehot, pairwise_edges"
   ]
  },
  {
   "cell_type": "markdown",
   "metadata": {},
   "source": [
    "# NOTE: This pipeline is set up on CPU"
   ]
  },
  {
   "cell_type": "code",
   "execution_count": 15,
   "metadata": {},
   "outputs": [],
   "source": [
    "class AtomDataset(InMemoryDataset):\n",
    "    def __init__(self, root, transform=None, pre_transform=None, cutoff=2.0):\n",
    "        \"\"\"\n",
    "        root: path containing the 'atoms.csv'\n",
    "        cutoff: distance threshold for constructing edges\n",
    "        \"\"\"\n",
    "        self.cutoff = cutoff\n",
    "        super().__init__(root, transform, pre_transform)\n",
    "        self.data, self.slices = torch.load(self.processed_paths[0])\n",
    "\n",
    "    @property\n",
    "    def raw_file_names(self):\n",
    "        return ['atoms.csv']\n",
    "    \n",
    "    @property\n",
    "    def processed_file_names(self):\n",
    "        return ['data.pt']\n",
    "    \n",
    "    def process(self):\n",
    "        df = pd.read_csv(self.raw_paths[0])\n",
    "\n",
    "        # 1) Collect node features\n",
    "        #    - we'll store [one-hot(atom_type), x, y, z]\n",
    "        positions = df[['X', 'Y', 'Z']].values\n",
    "\n",
    "        # Construct feature matrix\n",
    "        node_features = []\n",
    "        for _, row in df.iterrows():\n",
    "            atom_label = row['ATOM']  # e.g. 'N1'\n",
    "            one_hot = atom_type_to_onehot(atom_label[0])\n",
    "            # append coordinates\n",
    "            coords = [row['X'], row['Y'], row['Z']]\n",
    "            node_features.append(one_hot + coords)\n",
    "\n",
    "        x = torch.tensor(node_features, dtype=torch.float)  # shape (num_nodes, 7)\n",
    "\n",
    "        # 2) Construct edge_index using distance cutoff\n",
    "        edge_index = pairwise_edges(positions, cutoff=self.cutoff)\n",
    "\n",
    "        # 3) Magnetic moment as labels (node-level)\n",
    "        y = torch.tensor(df['MAGNETIC_MOMENT'].values, dtype=torch.float).view(-1, 1)\n",
    "\n",
    "        data = Data(x=x, edge_index=edge_index, y=y)\n",
    "\n",
    "        data_list = [data]\n",
    "        self.data, self.slices = self.collate(data_list)\n",
    "        torch.save((self.data, self.slices), self.processed_paths[0])\n",
    "\n",
    "        \n",
    "    def _load_processed_data(self):\n",
    "        \"\"\"\n",
    "        Safely load processed data with backward compatibility.\n",
    "        \"\"\"\n",
    "        # Retain compatibility with current behavior and avoid FutureWarnings\n",
    "        try:\n",
    "            return torch.load(self.processed_paths[0])\n",
    "        except TypeError:  # If a new PyTorch version requires explicit weights_only\n",
    "            return torch.load(self.processed_paths[0], weights_only=False)"
   ]
  },
  {
   "cell_type": "code",
   "execution_count": null,
   "metadata": {},
   "outputs": [],
   "source": []
  },
  {
   "cell_type": "code",
   "execution_count": 16,
   "metadata": {},
   "outputs": [
    {
     "name": "stdout",
     "output_type": "stream",
     "text": [
      "Data(x=[66, 7], edge_index=[2, 156], y=[66, 1])\n"
     ]
    },
    {
     "name": "stderr",
     "output_type": "stream",
     "text": [
      "C:\\Users\\y1hli\\AppData\\Local\\Temp\\ipykernel_17320\\4146827860.py:9: FutureWarning: You are using `torch.load` with `weights_only=False` (the current default value), which uses the default pickle module implicitly. It is possible to construct malicious pickle data which will execute arbitrary code during unpickling (See https://github.com/pytorch/pytorch/blob/main/SECURITY.md#untrusted-models for more details). In a future release, the default value for `weights_only` will be flipped to `True`. This limits the functions that could be executed during unpickling. Arbitrary objects will no longer be allowed to be loaded via this mode unless they are explicitly allowlisted by the user via `torch.serialization.add_safe_globals`. We recommend you start setting `weights_only=True` for any use case where you don't have full control of the loaded file. Please open an issue on GitHub for any issues related to this experimental feature.\n",
      "  self.data, self.slices = torch.load(self.processed_paths[0])\n"
     ]
    }
   ],
   "source": [
    "dataset = AtomDataset(root='./', cutoff=2.0)\n",
    "data = dataset[0]\n",
    "print(data)"
   ]
  },
  {
   "cell_type": "code",
   "execution_count": null,
   "metadata": {},
   "outputs": [],
   "source": [
    "class GNNModel(nn.Module):\n",
    "    def __init__(self, in_channels, hidden_channels, out_channels):\n",
    "        super().__init__()\n",
    "        self.conv1 = GCNConv(in_channels, hidden_channels)\n",
    "        self.conv2 = GCNConv(hidden_channels, hidden_channels)\n",
    "        self.conv3 = GCNConv(hidden_channels, out_channels)\n",
    "\n",
    "    def forward(self, x, edge_index):\n",
    "        # x: (num_nodes, in_channels)\n",
    "        # edge_index: (2, E)\n",
    "        x = self.conv1(x, edge_index)\n",
    "        x = torch.relu(x)\n",
    "\n",
    "        x = self.conv2(x, edge_index)\n",
    "        x = torch.relu(x)\n",
    "\n",
    "        x = self.conv3(x, edge_index)\n",
    "        # x: (num_nodes, out_channels=1)\n",
    "        \n",
    "        return x"
   ]
  }
 ],
 "metadata": {
  "kernelspec": {
   "display_name": "torch-env",
   "language": "python",
   "name": "python3"
  },
  "language_info": {
   "codemirror_mode": {
    "name": "ipython",
    "version": 3
   },
   "file_extension": ".py",
   "mimetype": "text/x-python",
   "name": "python",
   "nbconvert_exporter": "python",
   "pygments_lexer": "ipython3",
   "version": "3.11.4"
  }
 },
 "nbformat": 4,
 "nbformat_minor": 2
}
